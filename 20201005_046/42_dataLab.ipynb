{
 "cells": [
  {
   "cell_type": "code",
   "execution_count": 1,
   "metadata": {},
   "outputs": [],
   "source": [
    "import requests\n",
    "from bs4 import BeautifulSoup"
   ]
  },
  {
   "cell_type": "code",
   "execution_count": 2,
   "metadata": {},
   "outputs": [
    {
     "name": "stdout",
     "output_type": "stream",
     "text": [
      "https://datalab.naver.com/keyword/realtimeList.naver?age=10s&entertainment=0&groupingLevel=2&marketing=0&news=0&sports=0&where=main\n",
      "https://datalab.naver.com/keyword/realtimeList.naver?age=20s&entertainment=0&groupingLevel=2&marketing=0&news=0&sports=0&where=main\n",
      "https://datalab.naver.com/keyword/realtimeList.naver?age=30s&entertainment=0&groupingLevel=2&marketing=0&news=0&sports=0&where=main\n",
      "https://datalab.naver.com/keyword/realtimeList.naver?age=40s&entertainment=0&groupingLevel=2&marketing=0&news=0&sports=0&where=main\n",
      "https://datalab.naver.com/keyword/realtimeList.naver?age=50s&entertainment=0&groupingLevel=2&marketing=0&news=0&sports=0&where=main\n",
      "https://datalab.naver.com/keyword/realtimeList.naver?age=all&entertainment=0&groupingLevel=2&marketing=0&news=0&sports=0&where=main\n"
     ]
    }
   ],
   "source": [
    "# https://datalab.naver.com/keyword/realtimeList.naver?age=10s&entertainment=0&groupingLevel=2&marketing=0&news=0&sports=0&where=main # 10대\n",
    "# https://datalab.naver.com/keyword/realtimeList.naver?age=20s&entertainment=0&groupingLevel=2&marketing=0&news=0&sports=0&where=main # 20대\n",
    "# https://datalab.naver.com/keyword/realtimeList.naver?age=30s&entertainment=0&groupingLevel=2&marketing=0&news=0&sports=0&where=main # 30대\n",
    "# https://datalab.naver.com/keyword/realtimeList.naver?age=40s&entertainment=0&groupingLevel=2&marketing=0&news=0&sports=0&where=main # 40대\n",
    "# https://datalab.naver.com/keyword/realtimeList.naver?age=50s&entertainment=0&groupingLevel=2&marketing=0&news=0&sports=0&where=main # 50대\n",
    "# https://datalab.naver.com/keyword/realtimeList.naver?age=all&entertainment=0&groupingLevel=2&marketing=0&news=0&sports=0&where=main # 전체\n",
    "ageList = {'1': '10s', '2': '20s', '3': '30s', '4': '40s', '5': '50s', '6': 'all'}\n",
    "url1 = 'https://datalab.naver.com/keyword/realtimeList.naver?age=' # 공통 앞 부분\n",
    "url2 = '&entertainment=0&groupingLevel=2&marketing=0&news=0&sports=0&where=main' # 공통 뒷 부분\n",
    "for key in ageList:\n",
    "    # print(ageList[key])\n",
    "    # print(ageList.get(key))\n",
    "    targetSite = '{}{}{}'.format(url1, ageList[key], url2)\n",
    "    print(targetSite)"
   ]
  },
  {
   "cell_type": "code",
   "execution_count": 13,
   "metadata": {},
   "outputs": [
    {
     "name": "stdout",
     "output_type": "stream",
     "text": [
      "연령대를 선택하세요(1 => 10대, 2 => 20대, 3 => 30대, 4 => 40대, 5 => 50대, 6 => 전체) : 2\n",
      " 1 - 맨유 토트넘 => 토트넘 맨유,손흥민 골\n",
      " 2 - 겐조\n",
      " 3 - 유아인도 무신사랑 해\n",
      " 4 - 토트넘 맨유 하이라이트\n",
      " 5 - 리버풀 아스톤빌라\n",
      " 6 - epl 순위 => 프리미어리그 순위,리버풀,epl 득점순위,epl,프리미어리그,아스톤빌라\n",
      " 7 - 포천\n",
      " 8 - 포천 코로나 => 포천 군부대\n",
      " 9 - 홍천기\n",
      "10 - jtbc 마라톤\n",
      "11 - 블랙업\n",
      "12 - 비밀의숲 시즌3 => 비밀의숲 시즌1\n",
      "13 - 태풍\n",
      "14 - 셀리드\n",
      "15 - 이트론\n",
      "16 - 용산 베르디움 프렌즈\n",
      "17 - 해외축구갤러리\n",
      "18 - 우체국 점심시간\n",
      "19 - 토익스피킹\n",
      "20 - sk바이오팜\n"
     ]
    }
   ],
   "source": [
    "ageList = {'1': '10s', '2': '20s', '3': '30s', '4': '40s', '5': '50s', '6': 'all'}\n",
    "url1 = 'https://datalab.naver.com/keyword/realtimeList.naver?age=' # 공통 앞 부분\n",
    "url2 = '&entertainment=0&groupingLevel=2&marketing=0&news=0&sports=0&where=main' # 공통 뒷 부분\n",
    "age = input('연령대를 선택하세요(1 => 10대, 2 => 20대, 3 => 30대, 4 => 40대, 5 => 50대, 6 => 전체) : ')\n",
    "targetSite = '{}{}{}'.format(url1, ageList[age], url2)\n",
    "# print(targetSite)\n",
    "\n",
    "header = {\"User-agent\": \"Mozilla/5.0 (Windows NT 6.1; WOW64; Trident/7.0; rv:11.0) like Gecko\"}\n",
    "req = requests.get(targetSite, headers = header)\n",
    "# print(req)\n",
    "html = req.text\n",
    "soup = BeautifulSoup(html, 'html.parser')\n",
    "# print(soup)\n",
    "\n",
    "words = soup.findAll('span', {'class': 'item_title_wrap'})\n",
    "# print(words)\n",
    "for i in range(len(words)):\n",
    "    searchs = words[i].text.strip().split('\\n')\n",
    "    # print(searchs)\n",
    "    print('{0:2d} - {1}'.format(i + 1, searchs[0]), end = '')\n",
    "    if len(searchs) > 1:\n",
    "        print(' => ', end = '')\n",
    "        for search in searchs[2:]:\n",
    "            print(search.strip(), end = '')\n",
    "    print()"
   ]
  },
  {
   "cell_type": "code",
   "execution_count": null,
   "metadata": {},
   "outputs": [],
   "source": []
  },
  {
   "cell_type": "code",
   "execution_count": null,
   "metadata": {},
   "outputs": [],
   "source": []
  },
  {
   "cell_type": "code",
   "execution_count": null,
   "metadata": {},
   "outputs": [],
   "source": []
  },
  {
   "cell_type": "code",
   "execution_count": null,
   "metadata": {},
   "outputs": [],
   "source": []
  },
  {
   "cell_type": "code",
   "execution_count": null,
   "metadata": {},
   "outputs": [],
   "source": []
  },
  {
   "cell_type": "code",
   "execution_count": null,
   "metadata": {},
   "outputs": [],
   "source": []
  }
 ],
 "metadata": {
  "kernelspec": {
   "display_name": "Python 3",
   "language": "python",
   "name": "python3"
  },
  "language_info": {
   "codemirror_mode": {
    "name": "ipython",
    "version": 3
   },
   "file_extension": ".py",
   "mimetype": "text/x-python",
   "name": "python",
   "nbconvert_exporter": "python",
   "pygments_lexer": "ipython3",
   "version": "3.6.8"
  }
 },
 "nbformat": 4,
 "nbformat_minor": 4
}
