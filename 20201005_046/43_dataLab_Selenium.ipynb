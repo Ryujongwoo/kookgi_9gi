{
 "cells": [
  {
   "cell_type": "code",
   "execution_count": 1,
   "metadata": {},
   "outputs": [],
   "source": [
    "# selenium을 사용하기 위해 selenium을 살치하고 import 시킨다.\n",
    "# !pip install selenium"
   ]
  },
  {
   "cell_type": "code",
   "execution_count": 2,
   "metadata": {},
   "outputs": [],
   "source": [
    "from selenium import webdriver\n",
    "from bs4 import BeautifulSoup"
   ]
  },
  {
   "cell_type": "code",
   "execution_count": 3,
   "metadata": {},
   "outputs": [],
   "source": [
    "# 크롬 드라이버를 사용해서 크롬 브라우저를 실행한다.\n",
    "# driver = webdriver.Chrome('./chromedriver.exe')\n",
    "# 실행된 가상 크롬 브라우저에 크롤링할 사이트를 띄운다.\n",
    "# driver.get('https://www.naver.com')"
   ]
  },
  {
   "cell_type": "code",
   "execution_count": 4,
   "metadata": {},
   "outputs": [],
   "source": [
    "ageList = {'1': '10s', '2': '20s', '3': '30s', '4': '40s', '5': '50s', '6': 'all'}\n",
    "url1 = 'https://datalab.naver.com/keyword/realtimeList.naver?age='\n",
    "url2 = '&entertainment=0&groupingLevel=2&marketing=0&news=0&sports=0&where=main'"
   ]
  },
  {
   "cell_type": "code",
   "execution_count": 10,
   "metadata": {},
   "outputs": [
    {
     "name": "stdout",
     "output_type": "stream",
     "text": [
      "연령대를 선택하세요(1 => 10대, 2 => 20대, 3 => 30대, 4 => 40대, 5 => 50대, 6 => 전체) : 1\n",
      " 1 - 리버풀 아스톤빌라\n",
      " 2 - 맨유 토트넘 => 토트넘 맨유\n",
      " 3 - 겐조\n",
      " 4 - 리버풀 => epl 순위,epl,프리미어리그,프리미어리그 순위,아스톤빌라,epl 득점순위\n",
      " 5 - 운송장번호조회\n",
      " 6 - 써니\n",
      " 7 - ebs 온라인 클래스 => 이비에스 온라인 클래스\n",
      " 8 - 배송조회\n",
      " 9 - 온라인클래스\n",
      "10 - 구글 클래스룸\n",
      "11 - 홍천기\n",
      "12 - 설강화\n",
      "13 - 위두랑\n",
      "14 - 병무청\n",
      "15 - 택배조회\n",
      "16 - 송장번호조회\n",
      "17 - p1harmony\n",
      "18 - 학교폭력 실태조사\n",
      "19 - 토트넘 맨유 하이라이트\n",
      "20 - 드라마 설강화\n"
     ]
    }
   ],
   "source": [
    "age = input('연령대를 선택하세요(1 => 10대, 2 => 20대, 3 => 30대, 4 => 40대, 5 => 50대, 6 => 전체) : ')\n",
    "targetSite = '{}{}{}'.format(url1, ageList[age], url2)\n",
    "\n",
    "# selenium을 사용해 가상 크롬을 실행한다. => 최신 버전이 지원되지 않는다.\n",
    "driver = webdriver.Chrome('./chromedriver.exe')\n",
    "# get() 메소드로 가상 크롬에 크롤링할 타겟 사이트를 띄운다.\n",
    "driver.get(targetSite)\n",
    "\n",
    "# 가상 크롬에 실행된 타겟 사이트에서 크롤링할 정보를 얻어온다.\n",
    "html = driver.page_source\n",
    "soup = BeautifulSoup(html, 'html.parser')\n",
    "# print(soup)\n",
    "\n",
    "words = soup.findAll('span', {'class': 'item_title_wrap'})\n",
    "for i in range(len(words)):\n",
    "    searchs = words[i].text.strip().split('\\n')\n",
    "    print('{0:2d} - {1}'.format(i + 1, searchs[0]), end = '')\n",
    "    if len(searchs) > 1:\n",
    "        print(' => ', end = '')\n",
    "        for search in searchs[2:]:\n",
    "            print(search.strip(), end = '')\n",
    "    print()"
   ]
  },
  {
   "cell_type": "code",
   "execution_count": null,
   "metadata": {},
   "outputs": [],
   "source": []
  },
  {
   "cell_type": "code",
   "execution_count": null,
   "metadata": {},
   "outputs": [],
   "source": []
  },
  {
   "cell_type": "code",
   "execution_count": null,
   "metadata": {},
   "outputs": [],
   "source": []
  },
  {
   "cell_type": "code",
   "execution_count": null,
   "metadata": {},
   "outputs": [],
   "source": []
  },
  {
   "cell_type": "code",
   "execution_count": null,
   "metadata": {},
   "outputs": [],
   "source": []
  },
  {
   "cell_type": "code",
   "execution_count": null,
   "metadata": {},
   "outputs": [],
   "source": []
  },
  {
   "cell_type": "code",
   "execution_count": null,
   "metadata": {},
   "outputs": [],
   "source": []
  },
  {
   "cell_type": "code",
   "execution_count": null,
   "metadata": {},
   "outputs": [],
   "source": []
  }
 ],
 "metadata": {
  "kernelspec": {
   "display_name": "Python 3",
   "language": "python",
   "name": "python3"
  },
  "language_info": {
   "codemirror_mode": {
    "name": "ipython",
    "version": 3
   },
   "file_extension": ".py",
   "mimetype": "text/x-python",
   "name": "python",
   "nbconvert_exporter": "python",
   "pygments_lexer": "ipython3",
   "version": "3.6.8"
  }
 },
 "nbformat": 4,
 "nbformat_minor": 4
}
